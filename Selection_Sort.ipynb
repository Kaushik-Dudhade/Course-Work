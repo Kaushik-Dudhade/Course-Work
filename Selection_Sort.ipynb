{
  "nbformat": 4,
  "nbformat_minor": 0,
  "metadata": {
    "colab": {
      "provenance": [],
      "authorship_tag": "ABX9TyPXScNeBhjnofYhNIONsvJj",
      "include_colab_link": true
    },
    "kernelspec": {
      "name": "python3",
      "display_name": "Python 3"
    },
    "language_info": {
      "name": "python"
    }
  },
  "cells": [
    {
      "cell_type": "markdown",
      "metadata": {
        "id": "view-in-github",
        "colab_type": "text"
      },
      "source": [
        "<a href=\"https://colab.research.google.com/github/Kaushik-Dudhade/Course-Work/blob/main/Selection_Sort.ipynb\" target=\"_parent\"><img src=\"https://colab.research.google.com/assets/colab-badge.svg\" alt=\"Open In Colab\"/></a>"
      ]
    },
    {
      "cell_type": "code",
      "source": [
        "def selectionSort(arr):\n",
        "  n = len(arr)\n",
        "  for i in range(n-1):\n",
        "    min_index = i\n",
        "    for j in range(i+1,n):\n",
        "      if arr[j] < arr[min_index]:\n",
        "        min_index = j\n",
        "\n",
        "    arr[i], arr[min_index] = arr[min_index], arr[i]\n",
        "\n",
        "\n",
        "arr = []\n",
        "n = int(input(\"Enter no. of elements in array = \"))\n",
        "for i in range(n):\n",
        "  element = int(input(' Enter {} element : '.format(i+1)))\n",
        "  arr.append(element)\n",
        "\n",
        "print(\"Unsorted array: \")\n",
        "for i in arr:\n",
        "  print(i, end = \" \")\n",
        "1\n",
        "selectionSort(arr)\n",
        "print(\"\\n\")\n",
        "print(\"Sorted array:\")\n",
        "\n",
        "for i in arr:\n",
        "  print(i, end = \" \")"
      ],
      "metadata": {
        "id": "h-h8LYLK4Rna",
        "colab": {
          "base_uri": "https://localhost:8080/"
        },
        "outputId": "f1461cf3-d345-48f2-eab9-02b492d0b60c"
      },
      "execution_count": null,
      "outputs": [
        {
          "output_type": "stream",
          "name": "stdout",
          "text": [
            "Enter no. of elements in array = 5\n",
            " Enter 1 element : 50\n",
            " Enter 2 element : 48\n",
            " Enter 3 element : 62\n",
            " Enter 4 element : 99\n",
            " Enter 5 element : 5\n",
            "Unsorted array: \n",
            "50 48 62 99 5 \n",
            "\n",
            "Sorted array:\n",
            "5 48 50 62 99 "
          ]
        }
      ]
    }
  ]
}