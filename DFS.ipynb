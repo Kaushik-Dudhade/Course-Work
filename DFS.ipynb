{
  "nbformat": 4,
  "nbformat_minor": 0,
  "metadata": {
    "colab": {
      "provenance": [],
      "authorship_tag": "ABX9TyMqDwbjK/8kqcLzYYpsa7a+",
      "include_colab_link": true
    },
    "kernelspec": {
      "name": "python3",
      "display_name": "Python 3"
    },
    "language_info": {
      "name": "python"
    }
  },
  "cells": [
    {
      "cell_type": "markdown",
      "metadata": {
        "id": "view-in-github",
        "colab_type": "text"
      },
      "source": [
        "<a href=\"https://colab.research.google.com/github/Kaushik-Dudhade/Course-Work/blob/main/DFS.ipynb\" target=\"_parent\"><img src=\"https://colab.research.google.com/assets/colab-badge.svg\" alt=\"Open In Colab\"/></a>"
      ]
    },
    {
      "cell_type": "code",
      "execution_count": null,
      "metadata": {
        "colab": {
          "base_uri": "https://localhost:8080/"
        },
        "id": "P4A-X2skGcw_",
        "outputId": "1614d04b-24b3-4552-d221-2551eefcf3c4"
      },
      "outputs": [
        {
          "output_type": "stream",
          "name": "stdout",
          "text": [
            "Enter no of nodes5\n",
            "Enter node 1: a\n",
            "Enter node 2: b\n",
            "Enter node 3: c\n",
            "Enter node 4: d\n",
            "Enter node 5: e\n",
            "Enter no of edges: 7\n",
            "Source: a\n",
            "dest: b\n",
            "Source: a\n",
            "dest: c\n",
            "Source: a\n",
            "dest: d\n",
            "Source: c\n",
            "dest: d\n",
            "Source: b\n",
            "dest: d\n",
            "Source: b\n",
            "dest: e\n",
            "Source: d\n",
            "dest: e\n",
            "Enter start: a\n",
            "a b d c e "
          ]
        }
      ],
      "source": [
        "graph = {}\n",
        "visited = set()\n",
        "\n",
        "\n",
        "def add_node(node):\n",
        "\n",
        "  if node in graph:\n",
        "    print(\"Node alredy present\")\n",
        "\n",
        "  else:\n",
        "    graph[node] = []\n",
        "\n",
        "\n",
        "def add_edge(node1, node2):\n",
        "\n",
        "  if node1 not in graph:\n",
        "    print(node1 +\" not in graph\")\n",
        "\n",
        "  elif node2 not in graph:\n",
        "    print(node2 +\" not in graph\")\n",
        "\n",
        "  else:\n",
        "    graph[node1].append(node2)\n",
        "    graph[node2].append(node1)\n",
        "\n",
        "\n",
        "def DFS(start, visited, graph):\n",
        "\n",
        "  if start not in graph:\n",
        "    print(start + \" not in graph\")\n",
        "\n",
        "  elif start not in visited:\n",
        "    visited.add(start)\n",
        "    print(start, end =\" \")\n",
        "\n",
        "    for i in graph[start]:\n",
        "      DFS(i, visited, graph)\n",
        "\n",
        "\n",
        "n = int(input(\"Enter no of nodes\"))\n",
        "for i in range(n):\n",
        "  new_node = input(\"Enter node {}: \".format(i+1))\n",
        "  add_node(new_node)\n",
        "\n",
        "m = int(input(\"Enter no of edges: \"))\n",
        "\n",
        "for i in range(m):\n",
        "  src = input(\"Source: \")\n",
        "  dest = input(\"dest: \")\n",
        "\n",
        "  add_edge(src,dest)\n",
        "\n",
        "start = input(\"Enter start: \")\n",
        "DFS(start, visited, graph)"
      ]
    }
  ]
}