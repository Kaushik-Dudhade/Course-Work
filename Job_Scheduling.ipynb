{
  "nbformat": 4,
  "nbformat_minor": 0,
  "metadata": {
    "colab": {
      "provenance": [],
      "authorship_tag": "ABX9TyMQ4S8I2swKi3PzGzh9e9qJ",
      "include_colab_link": true
    },
    "kernelspec": {
      "name": "python3",
      "display_name": "Python 3"
    },
    "language_info": {
      "name": "python"
    }
  },
  "cells": [
    {
      "cell_type": "markdown",
      "metadata": {
        "id": "view-in-github",
        "colab_type": "text"
      },
      "source": [
        "<a href=\"https://colab.research.google.com/github/Kaushik-Dudhade/Course-Work/blob/main/Job_Scheduling.ipynb\" target=\"_parent\"><img src=\"https://colab.research.google.com/assets/colab-badge.svg\" alt=\"Open In Colab\"/></a>"
      ]
    },
    {
      "cell_type": "code",
      "execution_count": null,
      "metadata": {
        "id": "e9_tPu26XcEP"
      },
      "outputs": [],
      "source": [
        "class Job:\n",
        "\n",
        "  def __init__(self,id,deadline,profit):\n",
        "\n",
        "    self.id = id\n",
        "    self.deadline = deadline\n",
        "    self.profit = profit\n",
        "\n",
        "\n",
        "jobs = []\n",
        "\n",
        "n = int(input(\"Enter no. of jobs: \"))\n",
        "\n",
        "for i in range(n):\n",
        "  id = input(\"Enter Job id: \")\n",
        "  deadline = input(\"Enter deadline: \")\n",
        "  profit = input(\"Enter Profit: \")\n",
        "\n",
        "  jobs.append(Job(id, deadline, profit))\n",
        "\n",
        "\n",
        "jobs.sort(key=lambda x: x.profit, reverse=True)\n",
        "\n",
        "total_profit = 0\n",
        "\n",
        "maxDeadline = max(job.deadline for job in jobs)\n",
        "\n",
        "slots = [0] * (maxDeadline + 1)\n",
        "\n",
        "for job in jobs:\n",
        "  for i in range(job.deadline, 0, -1):\n",
        "    if slots[i] == 0:\n",
        "      slots[i] = job.id\n",
        "      total_profit += job.profit\n",
        "      break\n",
        "\n",
        "print(\"Scheduled Jobs:\", end=\" \")\n",
        "for i in range(1, len(slots)):\n",
        "    if slots[i] != 0:\n",
        "        print(slots[i], end=\" \")\n",
        "print(\"\\nTotal Profit:\", total_profit)\n"
      ]
    }
  ]
}