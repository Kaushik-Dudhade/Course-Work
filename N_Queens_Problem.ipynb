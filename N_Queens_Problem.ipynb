{
  "nbformat": 4,
  "nbformat_minor": 0,
  "metadata": {
    "colab": {
      "provenance": [],
      "authorship_tag": "ABX9TyNnOglbtyHekIf4MnYxR3Rn",
      "include_colab_link": true
    },
    "kernelspec": {
      "name": "python3",
      "display_name": "Python 3"
    },
    "language_info": {
      "name": "python"
    }
  },
  "cells": [
    {
      "cell_type": "markdown",
      "metadata": {
        "id": "view-in-github",
        "colab_type": "text"
      },
      "source": [
        "<a href=\"https://colab.research.google.com/github/Kaushik-Dudhade/Course-Work/blob/main/N_Queens_Problem.ipynb\" target=\"_parent\"><img src=\"https://colab.research.google.com/assets/colab-badge.svg\" alt=\"Open In Colab\"/></a>"
      ]
    },
    {
      "cell_type": "code",
      "source": [
        "class NQueensProblem:\n",
        "\n",
        "    def __init__(self, n):\n",
        "        self.queens = [0] * n\n",
        "        self.numSolutions = 0\n",
        "\n",
        "    def solve(self):\n",
        "        self.solve_helper(0)\n",
        "\n",
        "    def solve_helper(self, row):\n",
        "        if row == len(self.queens):\n",
        "            self.numSolutions += 1\n",
        "            self.print_solution()\n",
        "        else:\n",
        "            for col in range(len(self.queens)):\n",
        "                self.queens[row] = col\n",
        "                if self.is_valid(row, col):\n",
        "                    self.solve_helper(row + 1)\n",
        "\n",
        "    def is_valid(self, row, col):\n",
        "        for i in range(row):\n",
        "            diff = abs(self.queens[i] - col)\n",
        "            if diff == 0 or diff == row - i:\n",
        "                return False\n",
        "        return True\n",
        "\n",
        "    def print_solution(self):\n",
        "        if self.numSolutions == 1:\n",
        "            print(\"\\n Solution: \", end=\"\")\n",
        "            for i in range(len(self.queens)):\n",
        "                print(self.queens[i], end=\" \")\n",
        "            print()\n",
        "            print(\"\\n The Matrix Representation:\")\n",
        "            arr = [[0] * len(self.queens) for _ in range(len(self.queens))]\n",
        "            for i in range(len(self.queens)):\n",
        "                for j in range(len(self.queens)):\n",
        "                    if j == self.queens[i]:\n",
        "                        arr[i][j] = 1\n",
        "            for i in range(len(self.queens)):\n",
        "                for j in range(len(self.queens)):\n",
        "                    print(arr[i][j], end=\" \")\n",
        "                print()\n",
        "\n",
        "if __name__ == \"__main__\":\n",
        "    n = int(input(\"Enter N Queens Problem: \"))\n",
        "    NQueensProblem = NQueensProblem(n)\n",
        "    NQueensProblem.solve()"
      ],
      "metadata": {
        "colab": {
          "base_uri": "https://localhost:8080/"
        },
        "id": "9T2N6NLQ3KQz",
        "outputId": "cd5ff1c6-64ff-4ba6-b5d7-f28401cfab89"
      },
      "execution_count": 1,
      "outputs": [
        {
          "output_type": "stream",
          "name": "stdout",
          "text": [
            "Enter N Queens Problem: 4\n",
            "\n",
            " Solution: 1 3 0 2 \n",
            "\n",
            " The Matrix Representation:\n",
            "0 1 0 0 \n",
            "0 0 0 1 \n",
            "1 0 0 0 \n",
            "0 0 1 0 \n"
          ]
        }
      ]
    }
  ]
}